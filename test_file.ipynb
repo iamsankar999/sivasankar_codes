{
  "nbformat": 4,
  "nbformat_minor": 0,
  "metadata": {
    "colab": {
      "provenance": []
    },
    "kernelspec": {
      "name": "python3",
      "display_name": "Python 3"
    },
    "language_info": {
      "name": "python"
    }
  },
  "cells": [
    {
      "cell_type": "code",
      "execution_count": null,
      "metadata": {
        "id": "BDo2wmPiAXW-"
      },
      "outputs": [],
      "source": [
        "hello"
      ]
    },
    {
      "cell_type": "code",
      "source": [],
      "metadata": {
        "id": "xnG0j75rA9wK"
      },
      "execution_count": null,
      "outputs": []
    }
  ]
}