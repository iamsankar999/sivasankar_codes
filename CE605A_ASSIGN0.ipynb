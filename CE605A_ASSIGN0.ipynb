{
  "nbformat": 4,
  "nbformat_minor": 0,
  "metadata": {
    "colab": {
      "provenance": []
    },
    "kernelspec": {
      "name": "python3",
      "display_name": "Python 3"
    },
    "language_info": {
      "name": "python"
    }
  },
  "cells": [
    {
      "cell_type": "code",
      "execution_count": null,
      "metadata": {
        "id": "ZRwDjFqn5joN"
      },
      "outputs": [],
      "source": [
        "import numpy as np\n",
        "import math\n",
        "import pandas as pd"
      ]
    },
    {
      "cell_type": "markdown",
      "source": [
        "1. Create a row and column vector using input method and manually"
      ],
      "metadata": {
        "id": "38k8R0b4-Yly"
      }
    },
    {
      "cell_type": "code",
      "source": [
        "# Using Input Method\n",
        "input_row = input(\"Enter values for the row vector (space-separated): \")\n",
        "row_vector = np.array([float(x) for x in input_row.split()]) #delimetr used is space\n",
        "\n",
        "input_col = input(\"Enter values for the column vector (space-separated): \")\n",
        "col_vector = np.array([float(x) for x in input_col.split()]).reshape(-1, 1) #delimetr used is space, reshape is based on no. of col only (here 1).\n",
        "\n",
        "print(\"Row Vector (Input):\")\n",
        "print(row_vector)\n",
        "\n",
        "print(\"Column Vector (Input):\")\n",
        "print(col_vector)\n"
      ],
      "metadata": {
        "colab": {
          "base_uri": "https://localhost:8080/"
        },
        "id": "d_sTEjAK-X7q",
        "outputId": "b60be3dd-41d5-4149-f92a-270103fe12fb"
      },
      "execution_count": null,
      "outputs": [
        {
          "output_type": "stream",
          "name": "stdout",
          "text": [
            "Enter values for the row vector (space-separated): 1 5 8 6\n",
            "Enter values for the column vector (space-separated): 7 8 9 2 5\n",
            "Row Vector (Input):\n",
            "[1. 5. 8. 6.]\n",
            "Column Vector (Input):\n",
            "[[7.]\n",
            " [8.]\n",
            " [9.]\n",
            " [2.]\n",
            " [5.]]\n"
          ]
        }
      ]
    },
    {
      "cell_type": "code",
      "source": [
        "# Using Manual Method\n",
        "manual_row = [2, 5, 8]\n",
        "manual_col = [4, 5, 6, 7]\n",
        "\n",
        "row_vector_manual = np.array(manual_row)\n",
        "col_vector_manual = np.array(manual_col).reshape(-1, 1)\n",
        "\n",
        "print(\"Row Vector (Manual):\")\n",
        "print(row_vector_manual)\n",
        "\n",
        "print(\"Column Vector (Manual):\")\n",
        "print(col_vector_manual)"
      ],
      "metadata": {
        "colab": {
          "base_uri": "https://localhost:8080/"
        },
        "id": "ZBAs7_ed_DN5",
        "outputId": "74451f73-c3bc-4c91-90d1-3af340e0f69a"
      },
      "execution_count": null,
      "outputs": [
        {
          "output_type": "stream",
          "name": "stdout",
          "text": [
            "Row Vector (Manual):\n",
            "[2 5 8]\n",
            "Column Vector (Manual):\n",
            "[[4]\n",
            " [5]\n",
            " [6]\n",
            " [7]]\n"
          ]
        }
      ]
    },
    {
      "cell_type": "markdown",
      "source": [
        "2.  Create a matrix (5 × 5) using the input method as well as manually and save it as “a”"
      ],
      "metadata": {
        "id": "QCPMWsdUD_3c"
      }
    },
    {
      "cell_type": "code",
      "source": [
        "# Using Input Method\n",
        "input_matrix = []\n",
        "print(\"Enter values for the 5x5 matrix (row by row):\")\n",
        "for _ in range(5):\n",
        "    row = input(\"Enter values for the current row (space-separated): \")\n",
        "    row_values = [float(x) for x in row.split()]\n",
        "    input_matrix.append(row_values)\n",
        "\n",
        "a_input = np.array(input_matrix)\n",
        "\n",
        "print(\"Matrix 'a' (Input):\") #25 23 21 24 22  19 18 20 16 17  11 15 12 14 13  8 6 7 10 9  3 5 2 1 4\n",
        "print(a_input)"
      ],
      "metadata": {
        "colab": {
          "base_uri": "https://localhost:8080/"
        },
        "id": "XILxLiyMEBjZ",
        "outputId": "660b4c70-a8ef-4e9d-eb90-666311ec9709"
      },
      "execution_count": null,
      "outputs": [
        {
          "output_type": "stream",
          "name": "stdout",
          "text": [
            "Enter values for the 5x5 matrix (row by row):\n",
            "Enter values for the current row (space-separated): 25 23 21 24 22\n",
            "Enter values for the current row (space-separated): 19 18 20 16 17\n",
            "Enter values for the current row (space-separated): 11 15 12 14 13\n",
            "Enter values for the current row (space-separated): 8 6 7 10 9\n",
            "Enter values for the current row (space-separated): 3 5 2 1 4\n",
            "Matrix 'a' (Input):\n",
            "[[25. 23. 21. 24. 22.]\n",
            " [19. 18. 20. 16. 17.]\n",
            " [11. 15. 12. 14. 13.]\n",
            " [ 8.  6.  7. 10.  9.]\n",
            " [ 3.  5.  2.  1.  4.]]\n"
          ]
        }
      ]
    },
    {
      "cell_type": "code",
      "source": [
        "# Using Manual Method\n",
        "manual_matrix = np.array([\n",
        "    [25, 20, 23, 22, 24],\n",
        "    [21, 19, 15, 16, 18],\n",
        "    [14, 17, 13, 11, 12],\n",
        "    [6, 10, 8, 9, 7],\n",
        "    [4, 2, 3, 5, 1]\n",
        "])\n",
        "\n",
        "a_manual = manual_matrix\n",
        "\n",
        "print(\"Matrix 'a' created using the Manual Method:\")\n",
        "print(a_manual)"
      ],
      "metadata": {
        "colab": {
          "base_uri": "https://localhost:8080/"
        },
        "id": "bAx8iUkeGJ_K",
        "outputId": "eb2197a6-d5ce-447c-c311-0020ac739bc7"
      },
      "execution_count": null,
      "outputs": [
        {
          "output_type": "stream",
          "name": "stdout",
          "text": [
            "Matrix 'a' created using the Manual Method:\n",
            "[[25 20 23 22 24]\n",
            " [21 19 15 16 18]\n",
            " [14 17 13 11 12]\n",
            " [ 6 10  8  9  7]\n",
            " [ 4  2  3  5  1]]\n"
          ]
        }
      ]
    },
    {
      "cell_type": "code",
      "source": [
        "#since both ibput and manual method have same matrix, assigning both as 'a'\n",
        "a = a_input\n",
        "a"
      ],
      "metadata": {
        "colab": {
          "base_uri": "https://localhost:8080/"
        },
        "id": "043LWmmQLoSU",
        "outputId": "f7832091-e67c-4706-e3ef-a7f50ac02a22"
      },
      "execution_count": null,
      "outputs": [
        {
          "output_type": "execute_result",
          "data": {
            "text/plain": [
              "array([[25., 23., 21., 24., 22.],\n",
              "       [19., 18., 20., 16., 17.],\n",
              "       [11., 15., 12., 14., 13.],\n",
              "       [ 8.,  6.,  7., 10.,  9.],\n",
              "       [ 3.,  5.,  2.,  1.,  4.]])"
            ]
          },
          "metadata": {},
          "execution_count": 6
        }
      ]
    },
    {
      "cell_type": "markdown",
      "source": [
        "3. Get 3rd row out of the matrix.\n"
      ],
      "metadata": {
        "id": "D9VgAtGTJXD1"
      }
    },
    {
      "cell_type": "code",
      "source": [
        "third_row = a[2,:]\n",
        "third_row"
      ],
      "metadata": {
        "colab": {
          "base_uri": "https://localhost:8080/"
        },
        "id": "WInF25g5LQ4d",
        "outputId": "c2f2e730-2ee5-4742-d33c-493c28fe2216"
      },
      "execution_count": null,
      "outputs": [
        {
          "output_type": "execute_result",
          "data": {
            "text/plain": [
              "array([11., 15., 12., 14., 13.])"
            ]
          },
          "metadata": {},
          "execution_count": 7
        }
      ]
    },
    {
      "cell_type": "markdown",
      "source": [
        "4. Get 4th column out of the matrix"
      ],
      "metadata": {
        "id": "W3lKAn-pMgIL"
      }
    },
    {
      "cell_type": "code",
      "source": [
        "fourth_col = a[:,3]\n",
        "fourth_col"
      ],
      "metadata": {
        "colab": {
          "base_uri": "https://localhost:8080/"
        },
        "id": "PkgB1TTpLRSr",
        "outputId": "55b643e0-a8e7-4a3a-a10e-ee7e7fd1f767"
      },
      "execution_count": null,
      "outputs": [
        {
          "output_type": "execute_result",
          "data": {
            "text/plain": [
              "array([24., 16., 14., 10.,  1.])"
            ]
          },
          "metadata": {},
          "execution_count": 8
        }
      ]
    },
    {
      "cell_type": "markdown",
      "source": [
        "5.  Sort matrix row wise and column wise."
      ],
      "metadata": {
        "id": "qKjtJFiNMwSy"
      }
    },
    {
      "cell_type": "code",
      "source": [
        "a_row_sort = np.sort(a, axis=1)\n",
        "a_row_sort"
      ],
      "metadata": {
        "colab": {
          "base_uri": "https://localhost:8080/"
        },
        "id": "Hfo4AHm0M0_G",
        "outputId": "1d9c88de-aeff-43d2-e059-2d925c27096e"
      },
      "execution_count": null,
      "outputs": [
        {
          "output_type": "execute_result",
          "data": {
            "text/plain": [
              "array([[21., 22., 23., 24., 25.],\n",
              "       [16., 17., 18., 19., 20.],\n",
              "       [11., 12., 13., 14., 15.],\n",
              "       [ 6.,  7.,  8.,  9., 10.],\n",
              "       [ 1.,  2.,  3.,  4.,  5.]])"
            ]
          },
          "metadata": {},
          "execution_count": 9
        }
      ]
    },
    {
      "cell_type": "code",
      "source": [
        "a_col_sort = np.sort(a, axis=0)\n",
        "a_col_sort"
      ],
      "metadata": {
        "colab": {
          "base_uri": "https://localhost:8080/"
        },
        "id": "vjj7CQA3NSxR",
        "outputId": "b28b7e35-bc04-45bf-85b1-878c03db9a37"
      },
      "execution_count": null,
      "outputs": [
        {
          "output_type": "execute_result",
          "data": {
            "text/plain": [
              "array([[ 3.,  5.,  2.,  1.,  4.],\n",
              "       [ 8.,  6.,  7., 10.,  9.],\n",
              "       [11., 15., 12., 14., 13.],\n",
              "       [19., 18., 20., 16., 17.],\n",
              "       [25., 23., 21., 24., 22.]])"
            ]
          },
          "metadata": {},
          "execution_count": 10
        }
      ]
    },
    {
      "cell_type": "markdown",
      "source": [
        "6. Apply for loop in matrix, if element is greater than 2, multiply element by 10 say it as “b”."
      ],
      "metadata": {
        "id": "m9T6rmUZhXaY"
      }
    },
    {
      "cell_type": "code",
      "source": [
        "# Creating new matrix 'b'\n",
        "b = np.copy(a)  # Create a copy of 'a' to modify\n",
        "for row in range(b.shape[0]): #iterate over rows\n",
        "    for col in range(b.shape[1]): #iterate over columns\n",
        "        if b[row, col] > 2:\n",
        "            b[row, col] *= 10\n",
        "\n",
        "print(\"Matrix 'a':\")\n",
        "print(a)\n",
        "\n",
        "print(\"Matrix 'b' after applying condition:\")\n",
        "print(b)"
      ],
      "metadata": {
        "colab": {
          "base_uri": "https://localhost:8080/"
        },
        "id": "0bbru1VrNisP",
        "outputId": "0cb9e22e-dd10-40a9-cdcb-b18097a4d1dd"
      },
      "execution_count": null,
      "outputs": [
        {
          "output_type": "stream",
          "name": "stdout",
          "text": [
            "Matrix 'a':\n",
            "[[25. 23. 21. 24. 22.]\n",
            " [19. 18. 20. 16. 17.]\n",
            " [11. 15. 12. 14. 13.]\n",
            " [ 8.  6.  7. 10.  9.]\n",
            " [ 3.  5.  2.  1.  4.]]\n",
            "Matrix 'b' after applying condition:\n",
            "[[250. 230. 210. 240. 220.]\n",
            " [190. 180. 200. 160. 170.]\n",
            " [110. 150. 120. 140. 130.]\n",
            " [ 80.  60.  70. 100.  90.]\n",
            " [ 30.  50.   2.   1.  40.]]\n"
          ]
        }
      ]
    },
    {
      "cell_type": "markdown",
      "source": [
        "7. Add matrix a and b."
      ],
      "metadata": {
        "id": "mXwNno0As9Nh"
      }
    },
    {
      "cell_type": "code",
      "source": [
        "sum= a+b\n",
        "sum"
      ],
      "metadata": {
        "colab": {
          "base_uri": "https://localhost:8080/"
        },
        "id": "dmCUl_2utBSL",
        "outputId": "d5c1d3ad-f17f-4ebb-b5f2-8a10cbb3ec12"
      },
      "execution_count": null,
      "outputs": [
        {
          "output_type": "execute_result",
          "data": {
            "text/plain": [
              "array([[275., 253., 231., 264., 242.],\n",
              "       [209., 198., 220., 176., 187.],\n",
              "       [121., 165., 132., 154., 143.],\n",
              "       [ 88.,  66.,  77., 110.,  99.],\n",
              "       [ 33.,  55.,   4.,   2.,  44.]])"
            ]
          },
          "metadata": {},
          "execution_count": 12
        }
      ]
    },
    {
      "cell_type": "markdown",
      "source": [
        "8. Subtract matrix b from"
      ],
      "metadata": {
        "id": "3IyIKJICtWE0"
      }
    },
    {
      "cell_type": "code",
      "source": [
        "subtract = a-b\n",
        "subtract"
      ],
      "metadata": {
        "colab": {
          "base_uri": "https://localhost:8080/"
        },
        "id": "y5Le1ft0taSj",
        "outputId": "74d38c57-6ba8-4f50-b3a0-f690627d1e6d"
      },
      "execution_count": null,
      "outputs": [
        {
          "output_type": "execute_result",
          "data": {
            "text/plain": [
              "array([[-225., -207., -189., -216., -198.],\n",
              "       [-171., -162., -180., -144., -153.],\n",
              "       [ -99., -135., -108., -126., -117.],\n",
              "       [ -72.,  -54.,  -63.,  -90.,  -81.],\n",
              "       [ -27.,  -45.,    0.,    0.,  -36.]])"
            ]
          },
          "metadata": {},
          "execution_count": 19
        }
      ]
    },
    {
      "cell_type": "markdown",
      "source": [
        "9. Multiply matrix a by b element wise and matrix multiplication."
      ],
      "metadata": {
        "id": "6YnTGMn9th6l"
      }
    },
    {
      "cell_type": "code",
      "source": [
        "#element wise multiplication\n",
        "c = a*b\n",
        "c"
      ],
      "metadata": {
        "colab": {
          "base_uri": "https://localhost:8080/"
        },
        "id": "S9paXz16tnSW",
        "outputId": "bd6ce2a4-8734-4188-813f-703313c90af7"
      },
      "execution_count": null,
      "outputs": [
        {
          "output_type": "execute_result",
          "data": {
            "text/plain": [
              "array([[6.25e+03, 5.29e+03, 4.41e+03, 5.76e+03, 4.84e+03],\n",
              "       [3.61e+03, 3.24e+03, 4.00e+03, 2.56e+03, 2.89e+03],\n",
              "       [1.21e+03, 2.25e+03, 1.44e+03, 1.96e+03, 1.69e+03],\n",
              "       [6.40e+02, 3.60e+02, 4.90e+02, 1.00e+03, 8.10e+02],\n",
              "       [9.00e+01, 2.50e+02, 4.00e+00, 1.00e+00, 1.60e+02]])"
            ]
          },
          "metadata": {},
          "execution_count": 14
        }
      ]
    },
    {
      "cell_type": "code",
      "source": [
        "#matrix multiplication\n",
        "d= np.dot(a,b)\n",
        "d"
      ],
      "metadata": {
        "colab": {
          "base_uri": "https://localhost:8080/"
        },
        "id": "DYLqlE1zvSq1",
        "outputId": "9321d78d-b1ec-4787-ec56-8532d918965a"
      },
      "execution_count": null,
      "outputs": [
        {
          "output_type": "execute_result",
          "data": {
            "text/plain": [
              "array([[15510., 15580., 14094., 15042., 15180.],\n",
              "       [12160., 12420., 11144., 11857., 11960.],\n",
              "       [ 8430.,  8520.,  7756.,  8133.,  8310.],\n",
              "       [ 4980.,  5020.,  4438.,  4869.,  4950.],\n",
              "       [ 2120.,  2150.,  1948.,  1904.,  2020.]])"
            ]
          },
          "metadata": {},
          "execution_count": 15
        }
      ]
    },
    {
      "cell_type": "markdown",
      "source": [
        "10. Divide each element of matrix a and b by 18."
      ],
      "metadata": {
        "id": "aJIqMVfvvnfK"
      }
    },
    {
      "cell_type": "code",
      "source": [
        "#matrix a\n",
        "div_a = a/18\n",
        "print(div_a)"
      ],
      "metadata": {
        "colab": {
          "base_uri": "https://localhost:8080/"
        },
        "id": "Di1vn3tivuB3",
        "outputId": "0390d3df-4efc-442b-9680-2baa99895286"
      },
      "execution_count": null,
      "outputs": [
        {
          "output_type": "stream",
          "name": "stdout",
          "text": [
            "[[1.38888889 1.27777778 1.16666667 1.33333333 1.22222222]\n",
            " [1.05555556 1.         1.11111111 0.88888889 0.94444444]\n",
            " [0.61111111 0.83333333 0.66666667 0.77777778 0.72222222]\n",
            " [0.44444444 0.33333333 0.38888889 0.55555556 0.5       ]\n",
            " [0.16666667 0.27777778 0.11111111 0.05555556 0.22222222]]\n"
          ]
        }
      ]
    },
    {
      "cell_type": "code",
      "source": [
        "#matrix b\n",
        "div_b = b/18\n",
        "print(div_b)"
      ],
      "metadata": {
        "colab": {
          "base_uri": "https://localhost:8080/"
        },
        "id": "PGvHM0pdjNZx",
        "outputId": "c41ffa8f-68c9-45bd-8151-447cca50d2bd"
      },
      "execution_count": null,
      "outputs": [
        {
          "output_type": "stream",
          "name": "stdout",
          "text": [
            "[[13.88888889 12.77777778 11.66666667 13.33333333 12.22222222]\n",
            " [10.55555556 10.         11.11111111  8.88888889  9.44444444]\n",
            " [ 6.11111111  8.33333333  6.66666667  7.77777778  7.22222222]\n",
            " [ 4.44444444  3.33333333  3.88888889  5.55555556  5.        ]\n",
            " [ 1.66666667  2.77777778  0.11111111  0.05555556  2.22222222]]\n"
          ]
        }
      ]
    },
    {
      "cell_type": "markdown",
      "source": [
        "11. find the inverse, rank, condition number, singular value decomposition and the norm of matrices a and b"
      ],
      "metadata": {
        "id": "7_iacxmByLTy"
      }
    },
    {
      "cell_type": "code",
      "source": [
        "matrix_choice = input(\"Choose matrix (a or b): \")\n",
        "\n",
        "if matrix_choice == 'a':\n",
        "    matrix = a\n",
        "elif matrix_choice == 'b':\n",
        "    matrix = b\n",
        "else:\n",
        "    print(\"Invalid choice. Please choose 'a' or 'b'.\")\n",
        "\n",
        "if 'matrix' in locals():\n",
        "    print(\"Selected Matrix:\")\n",
        "    print(matrix)"
      ],
      "metadata": {
        "colab": {
          "base_uri": "https://localhost:8080/"
        },
        "id": "TiWoYgHb-NQn",
        "outputId": "7757bd1b-22b0-4f10-c8f9-b29ae03f980d"
      },
      "execution_count": null,
      "outputs": [
        {
          "output_type": "stream",
          "name": "stdout",
          "text": [
            "Choose matrix (a or b): b\n",
            "Selected Matrix:\n",
            "[[250. 230. 210. 240. 220.]\n",
            " [190. 180. 200. 160. 170.]\n",
            " [110. 150. 120. 140. 130.]\n",
            " [ 80.  60.  70. 100.  90.]\n",
            " [ 30.  50.   2.   1.  40.]]\n"
          ]
        }
      ]
    },
    {
      "cell_type": "code",
      "source": [
        "# matrix = a\n",
        "#inverse of matrix\n",
        "def find_inverse(matrix):\n",
        "    n = matrix.shape[0]\n",
        "    augmented_matrix = np.hstack((matrix, np.eye(n))) #A*I\n",
        "\n",
        "    for i in range(n):\n",
        "        pivot = augmented_matrix[i, i] #diagonal elements\n",
        "        augmented_matrix[i] = augmented_matrix[i] / pivot\n",
        "\n",
        "        for j in range(n):\n",
        "            if j != i:\n",
        "                factor = augmented_matrix[j, i] #non-diagonal elements\n",
        "                augmented_matrix[j] -= factor * augmented_matrix[i]\n",
        "\n",
        "    inverse_matrix = augmented_matrix[:, n:]\n",
        "    return inverse_matrix\n",
        "\n",
        "\n",
        "# Rank of a matrix\n",
        "rank = np.linalg.matrix_rank(matrix)\n",
        "\n",
        "\n",
        "#Condition number of matrix\n",
        "def matrix_condition_number(matrix):\n",
        "    try:\n",
        "        matrix_norm = np.linalg.norm(matrix, ord=2)\n",
        "        inverse_matrix = np.linalg.inv(matrix)\n",
        "        inverse_matrix_norm = np.linalg.norm(inverse_matrix, ord=2)\n",
        "        condition_number = matrix_norm * inverse_matrix_norm\n",
        "        return condition_number\n",
        "    except np.linalg.LinAlgError:\n",
        "        return np.inf  # If the matrix is singular, condition number is infinite\n",
        "\n",
        "condition_number = matrix_condition_number(matrix)\n",
        "\n",
        "\n",
        "# singular value decomposition of a matrix\n",
        "U, Sigma, VT = np.linalg.svd(matrix) #A=U*SIgma*VT\n",
        "\n",
        "\n",
        "#2_Norm of a matrix\n",
        "def calculate_2_norm(matrix):\n",
        "    sum_of_squares = np.sum(matrix ** 2)\n",
        "    norm_2 = np.sqrt(sum_of_squares)\n",
        "    return norm_2\n",
        "two_norm = calculate_2_norm(matrix)\n"
      ],
      "metadata": {
        "id": "x6C6Re42j6d8"
      },
      "execution_count": null,
      "outputs": []
    },
    {
      "cell_type": "code",
      "source": [
        "#matrix a\n",
        "# matrix = a\n",
        "a_inverse = find_inverse(matrix)\n",
        "print('original matrix of a')\n",
        "print(a)\n",
        "print('inverse matrix of a')\n",
        "print(a_inverse)\n",
        "\n",
        "print(\"Rank of the matrix:\", rank)\n",
        "\n",
        "print(\"Condition Number:\", condition_number)\n",
        "\n",
        "print('singular value decomposition of matrix')\n",
        "print(\"Matrix U (Left Singular Vectors):\")\n",
        "print(U)\n",
        "print(\"Matrix Sigma (Singular Values):\")\n",
        "print(np.diag(Sigma))\n",
        "print(\"Matrix VT (Transpose of Right Singular Vectors):\")\n",
        "print(VT)\n",
        "\n",
        "print(\"2-Norm of the matrix:\", two_norm)"
      ],
      "metadata": {
        "colab": {
          "base_uri": "https://localhost:8080/"
        },
        "id": "ZLwffYcBn4IM",
        "outputId": "54ae220f-5214-4ab5-9263-f7a6cfa42911"
      },
      "execution_count": null,
      "outputs": [
        {
          "output_type": "stream",
          "name": "stdout",
          "text": [
            "original matrix of a\n",
            "[[25. 23. 21. 24. 22.]\n",
            " [19. 18. 20. 16. 17.]\n",
            " [11. 15. 12. 14. 13.]\n",
            " [ 8.  6.  7. 10.  9.]\n",
            " [ 3.  5.  2.  1.  4.]]\n",
            "inverse matrix of a\n",
            "[[ 0.19472789 -0.04217687 -0.22636054 -0.08690476  0.03945578]\n",
            " [ 0.06632653 -0.06938776  0.13163265 -0.23571429  0.03265306]\n",
            " [-0.1505102   0.19591837  0.04744898 -0.00357143 -0.15102041]\n",
            " [ 0.06207483 -0.10340136  0.11037415 -0.01547619 -0.22585034]\n",
            " [-0.16921769  0.0462585  -0.04608844  0.36547619  0.31156463]]\n",
            "Rank of the matrix: 5\n",
            "Condition Number: 43.575255052554425\n",
            "singular value decomposition of matrix\n",
            "Matrix U (Left Singular Vectors):\n",
            "[[-0.69562631 -0.26396977 -0.08653226  0.55097882 -0.367911  ]\n",
            " [-0.54349699  0.61294289 -0.42541189 -0.34259553  0.17482867]\n",
            " [-0.39260572 -0.08939009  0.73321033 -0.5259766  -0.15369252]\n",
            " [-0.24155995 -0.6230702  -0.17104769 -0.15865443  0.706402  ]\n",
            " [-0.09068953  0.39801247  0.49465362  0.52652448  0.55807819]]\n",
            "Matrix Sigma (Singular Values):\n",
            "[[74.01705862  0.          0.          0.          0.        ]\n",
            " [ 0.          4.61129915  0.          0.          0.        ]\n",
            " [ 0.          0.          3.97820318  0.          0.        ]\n",
            " [ 0.          0.          0.          2.54943158  0.        ]\n",
            " [ 0.          0.          0.          0.          1.69860299]]\n",
            "Matrix VT (Transpose of Right Singular Vectors):\n",
            "[[-0.46260028 -0.45360144 -0.43316582 -0.45116292 -0.43481733]\n",
            " [ 0.05917108  0.4060585   0.45049022 -0.78336685 -0.12251619]\n",
            " [-0.51913876  0.70320211 -0.4361059   0.04166626  0.20994596]\n",
            " [ 0.70201954  0.11643382 -0.64744106 -0.26740433  0.05409921]\n",
            " [-0.14199747 -0.34829899 -0.00759294 -0.33097921  0.86540143]]\n",
            "2-Norm of the matrix: 74.33034373659252\n"
          ]
        }
      ]
    },
    {
      "cell_type": "code",
      "source": [
        "#matrix b\n",
        "# matrix = b\n",
        "b_inverse = find_inverse(matrix)\n",
        "print('original matrix of b')\n",
        "print(b)\n",
        "print('inverse matrix of b')\n",
        "print(b_inverse)\n",
        "\n",
        "print(\"Rank of the matrix:\", rank)\n",
        "\n",
        "print(\"Condition Number:\", condition_number)\n",
        "\n",
        "print('singular value decomposition of matrix')\n",
        "print(\"Matrix U (Left Singular Vectors):\")\n",
        "print(U)\n",
        "print(\"Matrix Sigma (Singular Values):\")\n",
        "print(np.diag(Sigma))\n",
        "print(\"Matrix VT (Transpose of Right Singular Vectors):\")\n",
        "print(VT)\n",
        "\n",
        "print(\"2-Norm of the matrix:\", two_norm)"
      ],
      "metadata": {
        "colab": {
          "base_uri": "https://localhost:8080/"
        },
        "id": "DNRqF81cofbp",
        "outputId": "7297c154-521c-448d-bc23-5589e128ef59"
      },
      "execution_count": null,
      "outputs": [
        {
          "output_type": "stream",
          "name": "stdout",
          "text": [
            "original matrix of b\n",
            "[[250. 230. 210. 240. 220.]\n",
            " [190. 180. 200. 160. 170.]\n",
            " [110. 150. 120. 140. 130.]\n",
            " [ 80.  60.  70. 100.  90.]\n",
            " [ 30.  50.   2.   1.  40.]]\n",
            "inverse matrix of b\n",
            "[[ 0.01889757 -0.00352334 -0.0221419  -0.00874493  0.00267478]\n",
            " [ 0.00615661 -0.00636414  0.01357222 -0.02361649  0.00221361]\n",
            " [-0.01284934  0.01693414  0.00285349 -0.00014873 -0.01023796]\n",
            " [ 0.00950009 -0.0143147   0.00820882 -0.00123593 -0.01531083]\n",
            " [-0.02146398  0.01010884 -0.00070674  0.03611764  0.02112156]]\n",
            "Rank of the matrix: 5\n",
            "Condition Number: 43.575255052554425\n",
            "singular value decomposition of matrix\n",
            "Matrix U (Left Singular Vectors):\n",
            "[[-0.69562631 -0.26396977 -0.08653226  0.55097882 -0.367911  ]\n",
            " [-0.54349699  0.61294289 -0.42541189 -0.34259553  0.17482867]\n",
            " [-0.39260572 -0.08939009  0.73321033 -0.5259766  -0.15369252]\n",
            " [-0.24155995 -0.6230702  -0.17104769 -0.15865443  0.706402  ]\n",
            " [-0.09068953  0.39801247  0.49465362  0.52652448  0.55807819]]\n",
            "Matrix Sigma (Singular Values):\n",
            "[[74.01705862  0.          0.          0.          0.        ]\n",
            " [ 0.          4.61129915  0.          0.          0.        ]\n",
            " [ 0.          0.          3.97820318  0.          0.        ]\n",
            " [ 0.          0.          0.          2.54943158  0.        ]\n",
            " [ 0.          0.          0.          0.          1.69860299]]\n",
            "Matrix VT (Transpose of Right Singular Vectors):\n",
            "[[-0.46260028 -0.45360144 -0.43316582 -0.45116292 -0.43481733]\n",
            " [ 0.05917108  0.4060585   0.45049022 -0.78336685 -0.12251619]\n",
            " [-0.51913876  0.70320211 -0.4361059   0.04166626  0.20994596]\n",
            " [ 0.70201954  0.11643382 -0.64744106 -0.26740433  0.05409921]\n",
            " [-0.14199747 -0.34829899 -0.00759294 -0.33097921  0.86540143]]\n",
            "2-Norm of the matrix: 74.33034373659252\n"
          ]
        }
      ]
    },
    {
      "cell_type": "markdown",
      "source": [
        "12. find the norm, inner product and outer product of column vector."
      ],
      "metadata": {
        "id": "FJIpDMx5FZeO"
      }
    },
    {
      "cell_type": "code",
      "source": [
        "# Column vector\n",
        "col_vect1 = np.array([[1],[2],[3]])\n",
        "\n",
        "# Calculate the norm of the column vector\n",
        "norm = np.linalg.norm(col_vect1)\n",
        "print(\"Norm of the column vector:\", norm)\n",
        "\n",
        "# Another column vector for inner product\n",
        "col_vect2 = np.array([[4],[5],[6]])\n",
        "\n",
        "# Calculate the inner product of the two column vectors\n",
        "inner_product = np.dot(col_vect1.T, col_vect2)\n",
        "print(\"Inner product of the column vectors:\", inner_product)\n",
        "\n",
        "# Calculate the outer product of the two column vectors\n",
        "outer_product = np.outer(col_vect1, col_vect2.T)\n",
        "print(\"Outer product of the column vectors:\")\n",
        "print(outer_product)\n"
      ],
      "metadata": {
        "id": "vRTHq9S1rjcT",
        "colab": {
          "base_uri": "https://localhost:8080/"
        },
        "outputId": "c2dcbd6e-d631-4d88-f805-ec92974449f8"
      },
      "execution_count": null,
      "outputs": [
        {
          "output_type": "stream",
          "name": "stdout",
          "text": [
            "Norm of the column vector: 3.7416573867739413\n",
            "Inner product of the column vectors: [[32]]\n",
            "Outer product of the column vectors:\n",
            "[[ 4  5  6]\n",
            " [ 8 10 12]\n",
            " [12 15 18]]\n"
          ]
        }
      ]
    },
    {
      "cell_type": "markdown",
      "source": [
        "Write a function called derivative which takes input parameters f(x), a, method (forward,backwardand central) and h(step size) (with default values method ‘central’ and h = 0.01) and returns the corresponding difference formula for derivative of function at a with step size h and then test your function on e^x and cos x at x = 0.5."
      ],
      "metadata": {
        "id": "QcxsNJdaKSdw"
      }
    },
    {
      "cell_type": "code",
      "source": [
        "def derivative(f, a, method='central', h=0.01):\n",
        "    if method == 'forward':\n",
        "        return (f(a + h) - f(a)) / h\n",
        "    elif method == 'backward':\n",
        "        return (f(a) - f(a - h)) / h\n",
        "    elif method == 'central':\n",
        "        return (f(a + h) - f(a - h)) / (2 * h)\n",
        "    else:\n",
        "        raise ValueError(\"Invalid differentiation method. Choose 'forward', 'backward', or 'central'.\")"
      ],
      "metadata": {
        "id": "cVkB6Qd5KS50"
      },
      "execution_count": null,
      "outputs": []
    },
    {
      "cell_type": "code",
      "source": [
        "# Test function and point\n",
        "def test_function(x):\n",
        "    return math.exp(x)  # Test with e^x\n",
        "\n",
        "x = 0.5  # Point to evaluate the derivative\n",
        "\n",
        "# Test the function using different methods\n",
        "for method in ['forward', 'backward', 'central']:\n",
        "    derivative_value = derivative(test_function, x, method=method)\n",
        "    print(f\"Derivative using {method} method:\", derivative_value)"
      ],
      "metadata": {
        "colab": {
          "base_uri": "https://localhost:8080/"
        },
        "id": "y-nKftR7LN4U",
        "outputId": "9a1bbfc9-c1b7-4e19-dfa1-c946d6778a32"
      },
      "execution_count": null,
      "outputs": [
        {
          "output_type": "stream",
          "name": "stdout",
          "text": [
            "Derivative using forward method: 1.6569924245758205\n",
            "Derivative using backward method: 1.6405050744749294\n",
            "Derivative using central method: 1.648748749525375\n"
          ]
        }
      ]
    },
    {
      "cell_type": "code",
      "source": [
        "# Test function and point\n",
        "def test_function(x):\n",
        "    return math.cos(x)  # Test with cos(x)\n",
        "\n",
        "x = 0.5  # Point to evaluate the derivative\n",
        "\n",
        "# Test the function using different methods\n",
        "for method in ['forward', 'backward', 'central']:\n",
        "    derivative_value = derivative(test_function, x, method=method)\n",
        "    print(f\"Derivative using {method} method:\", derivative_value)"
      ],
      "metadata": {
        "colab": {
          "base_uri": "https://localhost:8080/"
        },
        "id": "CiAhhEMdKu6E",
        "outputId": "1267c26c-7d26-4ad4-8d2c-e9718c198b24"
      },
      "execution_count": null,
      "outputs": [
        {
          "output_type": "stream",
          "name": "stdout",
          "text": [
            "Derivative using forward method: -0.483805424462147\n",
            "Derivative using backward method: -0.4750296719748692\n",
            "Derivative using central method: -0.4794175482185081\n"
          ]
        }
      ]
    },
    {
      "cell_type": "markdown",
      "source": [
        "14. Download the Automatic Weather Station AWS Data. Read the .csv file using\n",
        "pandas library as a DataFrame."
      ],
      "metadata": {
        "id": "cN7IdEVlK8FI"
      }
    },
    {
      "cell_type": "code",
      "source": [],
      "metadata": {
        "id": "8RroASjyLSqk"
      },
      "execution_count": null,
      "outputs": []
    },
    {
      "cell_type": "code",
      "source": [
        "import pandas as pd\n",
        "\n",
        "file_path = r'D:\\IITK docs\\PROB & STAT CE605A\\AWS.xlsx'  # Use 'r' before the string to treat it as a raw string\n",
        "\n",
        "data_frame = pd.read_excel(file_path)\n",
        "\n",
        "print(data_frame.head())\n"
      ],
      "metadata": {
        "id": "mIbCaCSKL2wZ"
      },
      "execution_count": null,
      "outputs": []
    }
  ]
}